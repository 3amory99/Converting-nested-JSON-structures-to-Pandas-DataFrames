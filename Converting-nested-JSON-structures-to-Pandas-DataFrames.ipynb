{
 "cells": [
  {
   "cell_type": "markdown",
   "id": "0e3ecfbb",
   "metadata": {},
   "source": [
    "<html>\n",
    "<body>\n",
    "<div align=\"center\">\n",
    "<h3>Prepared by Omar Mahmoud</h3>\n",
    "    \n",
    "<h1>Converting Nested JSON Structures to Pandas DataFrames</h1>\n",
    "\n",
    "<h6> converting nested JSON structures to Pandas DataFrames can be a powerful tool for working with complex data. However, it's important to be mindful of the size and complexity of your data, and to choose the appropriate tools and techniques to work with it effectively.</h6>\n",
    "\n",
    "<h3><a href=\"https://www.linkedin.com/in/omar-mahmoud-5bb616175/\">LinkedIn</a>&nbsp; <a href=\"https://twitter.com/OmarMah25544092\">Twitter</a>&nbsp; <a href=\"https://www.instagram.com/3amory99/\">Instagram</a>&nbsp; <a href=\"https://www.facebook.com/Mora898/\">Facebook</a></h3>\n",
    "</div>\n",
    "\n",
    "</div>\n",
    "</body>\n",
    "</html>"
   ]
  },
  {
   "cell_type": "code",
   "execution_count": 1,
   "id": "1642f435",
   "metadata": {},
   "outputs": [],
   "source": [
    "# Import the required liberies\n",
    "import json\n",
    "import pandas as pd"
   ]
  },
  {
   "cell_type": "code",
   "execution_count": 2,
   "id": "0e82d839",
   "metadata": {},
   "outputs": [],
   "source": [
    "with open(r'Nested Columns.json') as file:\n",
    "    data = json.load(file)"
   ]
  },
  {
   "cell_type": "code",
   "execution_count": 4,
   "id": "92aa38bd",
   "metadata": {},
   "outputs": [
    {
     "data": {
      "text/plain": [
       "[{'id': '001',\n",
       "  'company': 'XYZ pvt ltd',\n",
       "  'location': 'London',\n",
       "  'info': {'president': 'Rakesh Kapoor',\n",
       "   'contacts': {'email': 'contact@xyz.com', 'tel': '9876543210'}}},\n",
       " {'id': '002',\n",
       "  'company': 'PQR Associates',\n",
       "  'location': 'Abu Dhabi',\n",
       "  'info': {'president': 'Neelam Subramaniyam',\n",
       "   'contacts': {'email': 'contact@pqr.com', 'tel': '8876443210'}}}]"
      ]
     },
     "execution_count": 4,
     "metadata": {},
     "output_type": "execute_result"
    }
   ],
   "source": [
    "data"
   ]
  },
  {
   "cell_type": "code",
   "execution_count": 7,
   "id": "dd2afa5e",
   "metadata": {},
   "outputs": [
    {
     "data": {
      "text/html": [
       "<div>\n",
       "<style scoped>\n",
       "    .dataframe tbody tr th:only-of-type {\n",
       "        vertical-align: middle;\n",
       "    }\n",
       "\n",
       "    .dataframe tbody tr th {\n",
       "        vertical-align: top;\n",
       "    }\n",
       "\n",
       "    .dataframe thead th {\n",
       "        text-align: right;\n",
       "    }\n",
       "</style>\n",
       "<table border=\"1\" class=\"dataframe\">\n",
       "  <thead>\n",
       "    <tr style=\"text-align: right;\">\n",
       "      <th></th>\n",
       "      <th>id</th>\n",
       "      <th>company</th>\n",
       "      <th>location</th>\n",
       "      <th>info.president</th>\n",
       "      <th>info.contacts.email</th>\n",
       "      <th>info.contacts.tel</th>\n",
       "    </tr>\n",
       "  </thead>\n",
       "  <tbody>\n",
       "    <tr>\n",
       "      <th>0</th>\n",
       "      <td>001</td>\n",
       "      <td>XYZ pvt ltd</td>\n",
       "      <td>London</td>\n",
       "      <td>Rakesh Kapoor</td>\n",
       "      <td>contact@xyz.com</td>\n",
       "      <td>9876543210</td>\n",
       "    </tr>\n",
       "    <tr>\n",
       "      <th>1</th>\n",
       "      <td>002</td>\n",
       "      <td>PQR Associates</td>\n",
       "      <td>Abu Dhabi</td>\n",
       "      <td>Neelam Subramaniyam</td>\n",
       "      <td>contact@pqr.com</td>\n",
       "      <td>8876443210</td>\n",
       "    </tr>\n",
       "  </tbody>\n",
       "</table>\n",
       "</div>"
      ],
      "text/plain": [
       "    id         company   location       info.president info.contacts.email  \\\n",
       "0  001     XYZ pvt ltd     London        Rakesh Kapoor     contact@xyz.com   \n",
       "1  002  PQR Associates  Abu Dhabi  Neelam Subramaniyam     contact@pqr.com   \n",
       "\n",
       "  info.contacts.tel  \n",
       "0        9876543210  \n",
       "1        8876443210  "
      ]
     },
     "execution_count": 7,
     "metadata": {},
     "output_type": "execute_result"
    }
   ],
   "source": [
    "df = pd.json_normalize(data)\n",
    "df.head()"
   ]
  },
  {
   "cell_type": "code",
   "execution_count": 9,
   "id": "884496d5",
   "metadata": {},
   "outputs": [
    {
     "data": {
      "text/html": [
       "<div>\n",
       "<style scoped>\n",
       "    .dataframe tbody tr th:only-of-type {\n",
       "        vertical-align: middle;\n",
       "    }\n",
       "\n",
       "    .dataframe tbody tr th {\n",
       "        vertical-align: top;\n",
       "    }\n",
       "\n",
       "    .dataframe thead th {\n",
       "        text-align: right;\n",
       "    }\n",
       "</style>\n",
       "<table border=\"1\" class=\"dataframe\">\n",
       "  <thead>\n",
       "    <tr style=\"text-align: right;\">\n",
       "      <th></th>\n",
       "      <th>id</th>\n",
       "      <th>company</th>\n",
       "      <th>location</th>\n",
       "      <th>president</th>\n",
       "      <th>email</th>\n",
       "      <th>tel</th>\n",
       "    </tr>\n",
       "  </thead>\n",
       "  <tbody>\n",
       "    <tr>\n",
       "      <th>0</th>\n",
       "      <td>001</td>\n",
       "      <td>XYZ pvt ltd</td>\n",
       "      <td>London</td>\n",
       "      <td>Rakesh Kapoor</td>\n",
       "      <td>contact@xyz.com</td>\n",
       "      <td>9876543210</td>\n",
       "    </tr>\n",
       "    <tr>\n",
       "      <th>1</th>\n",
       "      <td>002</td>\n",
       "      <td>PQR Associates</td>\n",
       "      <td>Abu Dhabi</td>\n",
       "      <td>Neelam Subramaniyam</td>\n",
       "      <td>contact@pqr.com</td>\n",
       "      <td>8876443210</td>\n",
       "    </tr>\n",
       "  </tbody>\n",
       "</table>\n",
       "</div>"
      ],
      "text/plain": [
       "    id         company   location            president            email  \\\n",
       "0  001     XYZ pvt ltd     London        Rakesh Kapoor  contact@xyz.com   \n",
       "1  002  PQR Associates  Abu Dhabi  Neelam Subramaniyam  contact@pqr.com   \n",
       "\n",
       "          tel  \n",
       "0  9876543210  \n",
       "1  8876443210  "
      ]
     },
     "execution_count": 9,
     "metadata": {},
     "output_type": "execute_result"
    }
   ],
   "source": [
    "df.columns = df.columns.map(lambda x: x.split(\".\")[-1])\n",
    "df.head()"
   ]
  },
  {
   "cell_type": "code",
   "execution_count": 10,
   "id": "d281c2c8",
   "metadata": {},
   "outputs": [],
   "source": [
    "df.to_csv('sample.csv', index = False)"
   ]
  }
 ],
 "metadata": {
  "kernelspec": {
   "display_name": "Python 3 (ipykernel)",
   "language": "python",
   "name": "python3"
  },
  "language_info": {
   "codemirror_mode": {
    "name": "ipython",
    "version": 3
   },
   "file_extension": ".py",
   "mimetype": "text/x-python",
   "name": "python",
   "nbconvert_exporter": "python",
   "pygments_lexer": "ipython3",
   "version": "3.9.7"
  }
 },
 "nbformat": 4,
 "nbformat_minor": 5
}
